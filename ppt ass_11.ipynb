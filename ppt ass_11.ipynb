{
 "cells": [
  {
   "cell_type": "markdown",
   "id": "d63baeeb",
   "metadata": {},
   "source": [
    "💡 **Question 1**\n",
    "\n",
    "Given a non-negative integer `x`, return *the square root of* `x` *rounded down to the nearest integer*. The returned integer\n",
    "should be **non-negative** as well.\n",
    "\n",
    "You **must not use** any built-in exponent function or operator.\n",
    "\n",
    "- For example, do not use `pow(x, 0.5)` in c++ or `x ** 0.5` in python.\n",
    "\n",
    "**Example 1:**\n",
    "\n",
    "```\n",
    "Input: x = 4\n",
    "Output: 2\n",
    "Explanation: The square root of 4 is 2, so we return 2.\n",
    "\n",
    "```\n",
    "\n",
    "**Example 2:**\n",
    "```\n",
    "Input: x = 8\n",
    "Output: 2\n",
    "Explanation: The square root of 8 is 2.82842..., and since we round it down to the nearest integer, 2 is returned.\n",
    "```"
   ]
  },
  {
   "cell_type": "code",
   "execution_count": 1,
   "id": "5e13b214",
   "metadata": {},
   "outputs": [
    {
     "name": "stdout",
     "output_type": "stream",
     "text": [
      "2\n"
     ]
    }
   ],
   "source": [
    "def sqrt(x): \n",
    "    if x == 0 or x == 1: \n",
    "        return x \n",
    "  \n",
    "    start = 1\n",
    "    end = x    \n",
    "    while start <= end: \n",
    "        mid = (start + end) // 2\n",
    "  \n",
    "        if mid*mid == x: \n",
    "            return mid \n",
    "          \n",
    "        if mid*mid < x: \n",
    "            start = mid + 1\n",
    "            ans = mid  \n",
    "          \n",
    "        else: \n",
    "            end = mid-1\n",
    "              \n",
    "    return ans \n",
    " \n",
    "print(sqrt(8)) "
   ]
  },
  {
   "cell_type": "markdown",
   "id": "ef35fce3",
   "metadata": {},
   "source": [
    "💡 **Question 2**\n",
    "\n",
    "A peak element is an element that is strictly greater than its neighbors.\n",
    "\n",
    "Given a **0-indexed** integer array `nums`, find a peak element, and return its index. If the array contains multiple peaks, \n",
    "return the index to **any of the peaks**.\n",
    "\n",
    "You may imagine that `nums[-1] = nums[n] = -∞`. In other words, an element is always considered to be strictly greater than a \n",
    "neighbor that is outside the array.\n",
    "\n",
    "You must write an algorithm that runs in `O(log n)` time.\n",
    "\n",
    "**Example 1:**\n",
    "\n",
    "```\n",
    "Input: nums = [1,2,3,1]\n",
    "Output: 2\n",
    "Explanation: 3 is a peak element and your function should return the index number 2.\n",
    "```\n",
    "\n",
    "**Example 2:**\n",
    "```\n",
    "Input: nums = [1,2,1,3,5,6,4]\n",
    "Output: 5\n",
    "Explanation: Your function can return either index number 1 where the peak element is 2, or index number 5 where the peak\n",
    "element is 6.\n",
    "```"
   ]
  },
  {
   "cell_type": "code",
   "execution_count": 3,
   "id": "aafbd0d3",
   "metadata": {},
   "outputs": [
    {
     "name": "stdout",
     "output_type": "stream",
     "text": [
      "2\n"
     ]
    }
   ],
   "source": [
    "def findPeakElement(nums):\n",
    "  start, end = 0, len(nums) - 1\n",
    "  \n",
    "  while start + 1 < end:\n",
    "    mid = (start + end) // 2\n",
    "    if nums[mid] < nums[mid + 1]:\n",
    "      start = mid\n",
    "    else:\n",
    "      end = mid\n",
    "  \n",
    "  if nums[start] > nums[end]:\n",
    "    return start\n",
    "  else:\n",
    "    return end\n",
    "\n",
    "nums = [1,2,3,1]\n",
    "print(findPeakElement(nums))"
   ]
  },
  {
   "cell_type": "markdown",
   "id": "b93ebe32",
   "metadata": {},
   "source": [
    "💡 **Question 3**\n",
    "\n",
    "****\n",
    "\n",
    "Given an array `nums` containing `n` distinct numbers in the range `[0, n]`, return *the only number in the range that is\n",
    "missing from the array.*\n",
    "\n",
    "**Example 1:**\n",
    "\n",
    "```\n",
    "Input: nums = [3,0,1]\n",
    "Output: 2\n",
    "Explanation: n = 3 since there are 3 numbers, so all numbers are in the range [0,3]. 2 is the missing number in the range\n",
    "    since it does not appear in nums.\n",
    "\n",
    "```\n",
    "\n",
    "**Example 2:**\n",
    "\n",
    "```\n",
    "Input: nums = [0,1]\n",
    "Output: 2\n",
    "Explanation: n = 2 since there are 2 numbers, so all numbers are in the range [0,2]. 2 is the missing number in the range\n",
    "    since it does not appear in nums.\n",
    "\n",
    "```\n",
    "\n",
    "**Example 3:**\n",
    "\n",
    "```\n",
    "Input: nums = [9,6,4,2,3,5,7,0,1]\n",
    "Output: 8\n",
    "Explanation: n = 9 since there are 9 numbers, so all numbers are in the range [0,9]. 8 is the missing number in the range since it does not appear in nums.\n",
    "```"
   ]
  },
  {
   "cell_type": "code",
   "execution_count": 4,
   "id": "a0ad184c",
   "metadata": {},
   "outputs": [
    {
     "name": "stdout",
     "output_type": "stream",
     "text": [
      "8.0\n"
     ]
    }
   ],
   "source": [
    "def missingNumber(nums): \n",
    "    n = len(nums) \n",
    "    total = (n * (n+1))/ 2 \n",
    "    sum_of_nums = sum(nums) \n",
    "    return total - sum_of_nums \n",
    "  \n",
    "\n",
    "nums = [9,6,4,2,3,5,7,0,1] \n",
    "print(missingNumber(nums)) "
   ]
  },
  {
   "cell_type": "markdown",
   "id": "bf212534",
   "metadata": {},
   "source": [
    "💡 **Question 4**\n",
    "\n",
    "Given an array of integers `nums` containing `n + 1` integers where each integer is in the range `[1, n]` inclusive.\n",
    "\n",
    "There is only **one repeated number** in `nums`, return *this repeated number*.\n",
    "\n",
    "You must solve the problem **without** modifying the array `nums` and uses only constant extra space.\n",
    "\n",
    "**Example 1:**\n",
    "\n",
    "```\n",
    "Input: nums = [1,3,4,2,2]\n",
    "Output: 2\n",
    "\n",
    "```\n",
    "\n",
    "**Example 2:**\n",
    "\n",
    "```\n",
    "Input: nums = [3,1,3,4,2]\n",
    "Output: 3\n",
    "```"
   ]
  },
  {
   "cell_type": "code",
   "execution_count": 7,
   "id": "b39e0fba",
   "metadata": {},
   "outputs": [
    {
     "name": "stdout",
     "output_type": "stream",
     "text": [
      "2\n"
     ]
    }
   ],
   "source": [
    "def findRepeat(nums):\n",
    "  for num in nums:\n",
    "    if nums.count(num) > 1:\n",
    "      return num\n",
    "\n",
    "# Test Cases\n",
    "print(findRepeat([1,3,4,2,2]))"
   ]
  },
  {
   "cell_type": "markdown",
   "id": "46c26cc1",
   "metadata": {},
   "source": [
    "💡 **Question 5**\n",
    "\n",
    "Given two integer arrays `nums1` and `nums2`, return *an array of their intersection*. Each element in the result must be \n",
    "**unique** and you may return the result in **any order**.\n",
    "\n",
    "**Example 1:**\n",
    "\n",
    "```\n",
    "Input: nums1 = [1,2,2,1], nums2 = [2,2]\n",
    "Output: [2]\n",
    "\n",
    "```\n",
    "\n",
    "**Example 2:**\n",
    "\n",
    "```\n",
    "\n",
    "Input: nums1 = [4,9,5], nums2 = [9,4,9,8,4]\n",
    "Output: [9,4]\n",
    "Explanation: [4,9] is also accepted.\n",
    "\n",
    "```"
   ]
  },
  {
   "cell_type": "code",
   "execution_count": 8,
   "id": "5780ea6c",
   "metadata": {},
   "outputs": [
    {
     "name": "stdout",
     "output_type": "stream",
     "text": [
      "[2]\n"
     ]
    }
   ],
   "source": [
    "def intersection(nums1, nums2):\n",
    "    intersection_set = set(nums1) & set(nums2)       \n",
    "    return list(intersection_set)                   \n",
    "\n",
    "# Test cases \n",
    "nums1 = [1,2,2,1]\n",
    "nums2 = [2,2]\n",
    "print(intersection(nums1, nums2))"
   ]
  },
  {
   "cell_type": "markdown",
   "id": "8e10924d",
   "metadata": {},
   "source": [
    "💡 **Question 6**\n",
    "\n",
    "Suppose an array of length `n` sorted in ascending order is **rotated** between `1` and `n` times. For example, the array `nums = [0,1,2,4,5,6,7]` might become:\n",
    "\n",
    "- `[4,5,6,7,0,1,2]` if it was rotated `4` times.\n",
    "- `[0,1,2,4,5,6,7]` if it was rotated `7` times.\n",
    "\n",
    "Notice that **rotating** an array `[a[0], a[1], a[2], ..., a[n-1]]` 1 time results in the array `[a[n-1], a[0], a[1], a[2], ..., a[n-2]]`.\n",
    "\n",
    "Given the sorted rotated array `nums` of **unique** elements, return *the minimum element of this array*.\n",
    "\n",
    "You must write an algorithm that runs in `O(log n) time.`\n",
    "\n",
    "**Example 1:**\n",
    "\n",
    "```\n",
    "Input: nums = [3,4,5,1,2]\n",
    "Output: 1\n",
    "Explanation: The original array was [1,2,3,4,5] rotated 3 times.\n",
    "\n",
    "```\n",
    "\n",
    "**Example 2:**\n",
    "\n",
    "```\n",
    "Input: nums = [4,5,6,7,0,1,2]\n",
    "Output: 0\n",
    "Explanation: The original array was [0,1,2,4,5,6,7] and it was rotated 4 times.\n",
    "\n",
    "```\n",
    "\n",
    "**Example 3:**\n",
    "\n",
    "```\n",
    "Input: nums = [11,13,15,17]\n",
    "Output: 11\n",
    "Explanation: The original array was [11,13,15,17] and it was rotated 4 times. \n",
    "```"
   ]
  },
  {
   "cell_type": "code",
   "execution_count": 10,
   "id": "5c553e6c",
   "metadata": {},
   "outputs": [
    {
     "name": "stdout",
     "output_type": "stream",
     "text": [
      "1\n"
     ]
    }
   ],
   "source": [
    "def find_min(nums): \n",
    "    low = 0\n",
    "    high = len(nums) - 1\n",
    "  \n",
    "    while low < high: \n",
    "      mid = (low + high)//2\n",
    "\n",
    "      if nums[high] > nums[mid]:\n",
    "        high = mid \n",
    "      else:\n",
    "        low = mid + 1 \n",
    "      \n",
    "    return nums[low]\n",
    "\n",
    "nums = [3,4,5,1,2]\n",
    "print(find_min(nums))  "
   ]
  },
  {
   "cell_type": "markdown",
   "id": "c4e403dd",
   "metadata": {},
   "source": [
    "💡 **Question 7**\n",
    "\n",
    "Given an array of integers `nums` sorted in non-decreasing order, find the starting and ending position of a given `target` value.\n",
    "\n",
    "If `target` is not found in the array, return `[-1, -1]`.\n",
    "\n",
    "You must write an algorithm with `O(log n)` runtime complexity.\n",
    "\n",
    "**Example 1:**\n",
    "\n",
    "```\n",
    "Input: nums = [5,7,7,8,8,10], target = 8\n",
    "Output: [3,4]\n",
    "\n",
    "```\n",
    "\n",
    "**Example 2:**\n",
    "\n",
    "```\n",
    "Input: nums = [5,7,7,8,8,10], target = 6\n",
    "Output: [-1,-1]\n",
    "\n",
    "```\n",
    "\n",
    "**Example 3:**\n",
    "\n",
    "```\n",
    "Input: nums = [], target = 0\n",
    "Output: [-1,-1]\n",
    "```"
   ]
  },
  {
   "cell_type": "code",
   "execution_count": 16,
   "id": "98fac27d",
   "metadata": {},
   "outputs": [
    {
     "name": "stdout",
     "output_type": "stream",
     "text": [
      "[-1, -1]\n"
     ]
    }
   ],
   "source": [
    "def findRange(nums, target):\n",
    "    n = len(nums)\n",
    "    if n == 0:\n",
    "        return [-1, -1]\n",
    "    left = 0\n",
    "    right = n-1\n",
    "    while left < right:\n",
    "        mid = (left+right)//2\n",
    "        if nums[mid] < target:\n",
    "            left = mid+1\n",
    "        else:\n",
    "            right = mid\n",
    "    if nums[left] != target: \n",
    "        return [-1, -1]\n",
    "    right = n-1\n",
    "    while left < right:\n",
    "        mid = (left+right)//2 + 1\n",
    "        if nums[mid] > target:\n",
    "            right = mid-1\n",
    "        else:\n",
    "            left = mid\n",
    "    return [left, right] \n",
    "\n",
    "\n",
    "nums = [5,7,7,8,8,10]\n",
    "target = 6\n",
    "\n",
    "print(findRange(nums, target))"
   ]
  },
  {
   "cell_type": "markdown",
   "id": "1f74f051",
   "metadata": {},
   "source": [
    "💡 **Question 8**\n",
    "\n",
    "Given two integer arrays `nums1` and `nums2`, return *an array of their intersection*. Each element in the result must appear\n",
    "as many times as it shows in both arrays and you may return the result in **any order**.\n",
    "\n",
    "**Example 1:**\n",
    "\n",
    "```\n",
    "Input: nums1 = [1,2,2,1], nums2 = [2,2]\n",
    "Output: [2,2]\n",
    "\n",
    "```\n",
    "\n",
    "**Example 2:**\n",
    "\n",
    "```\n",
    "Input: nums1 = [4,9,5], nums2 = [9,4,9,8,4]\n",
    "Output: [4,9]\n",
    "Explanation: [9,4] is also accepted.\n",
    "```"
   ]
  },
  {
   "cell_type": "code",
   "execution_count": 20,
   "id": "3f988a7b",
   "metadata": {},
   "outputs": [
    {
     "name": "stdout",
     "output_type": "stream",
     "text": [
      "[4, 9]\n"
     ]
    }
   ],
   "source": [
    "def intersection(nums1,nums2):\n",
    "  result = [] \n",
    "  for i in nums1:\n",
    "    if i in nums2 and result.count(i) == 0:\n",
    "      result.append(i)\n",
    "  return result\n",
    "\n",
    "\n",
    "nums1 = [4,9,5] \n",
    "nums2 = [9,4,9,8,4]\n",
    "\n",
    "print(intersection(nums1, nums2))"
   ]
  },
  {
   "cell_type": "code",
   "execution_count": null,
   "id": "dc7c70cc",
   "metadata": {},
   "outputs": [],
   "source": []
  }
 ],
 "metadata": {
  "kernelspec": {
   "display_name": "Python 3 (ipykernel)",
   "language": "python",
   "name": "python3"
  },
  "language_info": {
   "codemirror_mode": {
    "name": "ipython",
    "version": 3
   },
   "file_extension": ".py",
   "mimetype": "text/x-python",
   "name": "python",
   "nbconvert_exporter": "python",
   "pygments_lexer": "ipython3",
   "version": "3.9.12"
  }
 },
 "nbformat": 4,
 "nbformat_minor": 5
}

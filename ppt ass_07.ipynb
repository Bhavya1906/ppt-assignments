{
 "cells": [
  {
   "cell_type": "markdown",
   "id": "6a5cc081",
   "metadata": {},
   "source": [
    "💡 **Question 1**\n",
    "\n",
    "Given two strings s and t, *determine if they are isomorphic*.\n",
    "\n",
    "Two strings s and t are isomorphic if the characters in s can be replaced to get t.\n",
    "\n",
    "All occurrences of a character must be replaced with another character while preserving the order of characters. No two\n",
    "characters may map to the same character, but a character may map to itself.\n",
    "\n",
    "**Example 1:**\n",
    "\n",
    "**Input:** s = \"egg\", t = \"add\"\n",
    "\n",
    "**Output:** true\n",
    "\n",
    "</aside>"
   ]
  },
  {
   "cell_type": "code",
   "execution_count": 1,
   "id": "cbe825db",
   "metadata": {},
   "outputs": [
    {
     "name": "stdout",
     "output_type": "stream",
     "text": [
      "True\n"
     ]
    }
   ],
   "source": [
    "def isIsomorphic(s, t): \n",
    "    if(len(s) != len(t)): \n",
    "        return False\n",
    "      \n",
    "    mark = {} \n",
    "    for i in range(len(s)): \n",
    "        if s[i] in mark: \n",
    "            if mark[s[i]] != t[i]: \n",
    "                return False\n",
    "        else: \n",
    "            if t[i] in mark.values(): \n",
    "                return False\n",
    "            else: \n",
    "                mark[s[i]] = t[i] \n",
    "    return True\n",
    "\n",
    "# TEST CASES\n",
    "s1 = 'egg'\n",
    "t1 = 'add'\n",
    "\n",
    "print(isIsomorphic(s1, t1))"
   ]
  },
  {
   "cell_type": "markdown",
   "id": "5baeb670",
   "metadata": {},
   "source": [
    "💡 **Question 2**\n",
    "\n",
    "Given a string num which represents an integer, return true *if* num *is a **strobogrammatic number***.\n",
    "\n",
    "A **strobogrammatic number** is a number that looks the same when rotated 180 degrees (looked at upside down).\n",
    "\n",
    "**Example 1:**\n",
    "\n",
    "**Input:** num = \"69\"\n",
    "\n",
    "**Output:**\n",
    "\n",
    "true\n",
    "\n",
    "</aside>"
   ]
  },
  {
   "cell_type": "code",
   "execution_count": 2,
   "id": "1f3c7d4f",
   "metadata": {},
   "outputs": [
    {
     "name": "stdout",
     "output_type": "stream",
     "text": [
      "True\n",
      "False\n"
     ]
    }
   ],
   "source": [
    "def strobogrammatic_number(num):\n",
    "    strobogrammatic = [\"00\", \"11\", \"88\", \"69\", \"96\"]\n",
    "    if num in strobogrammatic:\n",
    "        return True\n",
    "    else:\n",
    "        return False\n",
    "\n",
    "# test\n",
    "print(strobogrammatic_number(\"69\"))\n",
    "print(strobogrammatic_number(\"56\"))"
   ]
  },
  {
   "cell_type": "markdown",
   "id": "fe9ed742",
   "metadata": {},
   "source": [
    "💡 **Question 3**\n",
    "\n",
    "Given two non-negative integers, num1 and num2 represented as string, return *the sum of* num1 *and* num2 *as a string*.\n",
    "\n",
    "You must solve the problem without using any built-in library for handling large integers (such as BigInteger). You must also \n",
    "not convert the inputs to integers directly.\n",
    "\n",
    "**Example 1:**\n",
    "\n",
    "**Input:** num1 = \"11\", num2 = \"123\"\n",
    "\n",
    "**Output:**\n",
    "\n",
    "\"134\"\n",
    "\n",
    "</aside>"
   ]
  },
  {
   "cell_type": "code",
   "execution_count": 3,
   "id": "6cde5dd4",
   "metadata": {},
   "outputs": [
    {
     "name": "stdout",
     "output_type": "stream",
     "text": [
      "134\n"
     ]
    }
   ],
   "source": [
    "def sum_as_a_string(num1, num2):\n",
    "    i, j, carry = len(num1)-1, len(num2)-1, 0\n",
    "    sum = \"\"\n",
    "    while i >= 0 or j >= 0:\n",
    "        if i >= 0:\n",
    "            carry += int(num1[i])\n",
    "            i -= 1\n",
    "        if j >= 0:\n",
    "            carry += int(num2[j])\n",
    "            j -= 1\n",
    "        sum = str(carry % 10) + sum\n",
    "        carry = carry // 10\n",
    "    if carry > 0:\n",
    "        sum = str(carry) + sum\n",
    "        \n",
    "    return sum\n",
    "\n",
    "# Test\n",
    "num1 = \"11\"\n",
    "num2 = \"123\"\n",
    "\n",
    "print(sum_as_a_string(num1, num2))"
   ]
  },
  {
   "cell_type": "markdown",
   "id": "dbcb6ee5",
   "metadata": {},
   "source": [
    "💡 **Question 4**\n",
    "\n",
    "Given a string s, reverse the order of characters in each word within a sentence while still preserving whitespace and initial \n",
    "word order.\n",
    "\n",
    "**Example 1:**\n",
    "\n",
    "**Input:** s = \"Let's take LeetCode contest\"\n",
    "\n",
    "**Output:** \"s'teL ekat edoCteeL tsetnoc\"\n",
    "\n",
    "</aside>"
   ]
  },
  {
   "cell_type": "code",
   "execution_count": 4,
   "id": "0100b4d3",
   "metadata": {},
   "outputs": [
    {
     "name": "stdout",
     "output_type": "stream",
     "text": [
      "s'teL ekat edoCteeL tsetnoc\n"
     ]
    }
   ],
   "source": [
    "def reverse_words_in_sentence(sentence):\n",
    "  s_list = sentence.split()\n",
    "  reversed_list = [word[::-1] for word in s_list]\n",
    "  return ' '.join(reversed_list)\n",
    "\n",
    "s = \"Let's take LeetCode contest\"\n",
    "\n",
    "print(reverse_words_in_sentence(s))"
   ]
  },
  {
   "cell_type": "markdown",
   "id": "c1097826",
   "metadata": {},
   "source": [
    "💡 **Question 5**\n",
    "\n",
    "Given a string s and an integer k, reverse the first k characters for every 2k characters counting from the start of the string.\n",
    "\n",
    "If there are fewer than k characters left, reverse all of them. If there are less than 2k but greater than or equal to k \n",
    "characters, then reverse the first k characters and leave the other as original.\n",
    "\n",
    "**Example 1:**\n",
    "\n",
    "**Input:** s = \"abcdefg\", k = 2\n",
    "\n",
    "**Output:**\n",
    "\n",
    "\"bacdfeg\"\n",
    "\n",
    "</aside>"
   ]
  },
  {
   "cell_type": "code",
   "execution_count": 6,
   "id": "8e30d4f4",
   "metadata": {},
   "outputs": [
    {
     "data": {
      "text/plain": [
       "'bacdfeg'"
      ]
     },
     "execution_count": 6,
     "metadata": {},
     "output_type": "execute_result"
    }
   ],
   "source": [
    "def reverse_str(s, k):\n",
    "    result = ''\n",
    "\n",
    "    for i in range(0, len(s), 2*k):\n",
    "        result += s[i:i+k][::-1] + s[i+k:i+2*k]\n",
    "\n",
    "    # If there are fewer than k characters left. \n",
    "    # Reverse all of them \n",
    "    if len(s[i + 2*k:]) > 0:\n",
    "        result += s[i+2*k:][::-1]\n",
    "\n",
    "    return result\n",
    "\n",
    "# Test case \n",
    "reverse_str('abcdefg', 2) "
   ]
  },
  {
   "cell_type": "markdown",
   "id": "f705049e",
   "metadata": {},
   "source": [
    "💡 **Question 6**\n",
    "\n",
    "Given two strings s and goal, return true *if and only if* s *can become* goal *after some number of **shifts** on* s.\n",
    "\n",
    "A **shift** on s consists of moving the leftmost character of s to the rightmost position.\n",
    "\n",
    "- For example, if s = \"abcde\", then it will be \"bcdea\" after one shift.\n",
    "\n",
    "**Example 1:**\n",
    "\n",
    "**Input:** s = \"abcde\", goal = \"cdeab\"\n",
    "\n",
    "**Output:**\n",
    "\n",
    "true\n",
    "\n",
    "</aside>"
   ]
  },
  {
   "cell_type": "code",
   "execution_count": 7,
   "id": "a1294a26",
   "metadata": {},
   "outputs": [
    {
     "name": "stdout",
     "output_type": "stream",
     "text": [
      "True\n"
     ]
    }
   ],
   "source": [
    "def string_shifts(s, goal):\n",
    "  while s != goal and len(s) > 0:\n",
    "    s = s[1:] + s[0]\n",
    "  return s == goal\n",
    "\n",
    "s = \"abcde\"\n",
    "goal = \"cdeab\"\n",
    "\n",
    "print(string_shifts(s, goal))"
   ]
  },
  {
   "cell_type": "markdown",
   "id": "3e47e0b4",
   "metadata": {},
   "source": [
    "💡 **Question 7**\n",
    "\n",
    "Given two strings s and t, return true *if they are equal when both are typed into empty text editors*. '#' means a backspace\n",
    "character.\n",
    "\n",
    "Note that after backspacing an empty text, the text will continue empty.\n",
    "\n",
    "**Example 1:**\n",
    "\n",
    "**Input:** s = \"ab#c\", t = \"ad#c\"\n",
    "\n",
    "**Output:** true\n",
    "\n",
    "**Explanation:**\n",
    "\n",
    "Both s and t become \"ac\".\n",
    "\n",
    "</aside>"
   ]
  },
  {
   "cell_type": "code",
   "execution_count": 9,
   "id": "d49dfc89",
   "metadata": {},
   "outputs": [
    {
     "name": "stdout",
     "output_type": "stream",
     "text": [
      "True\n"
     ]
    }
   ],
   "source": [
    "def backspaceCompare(s, t):\n",
    "    def backwards(s):\n",
    "        result = []\n",
    "        for c in s:\n",
    "            if c == '#':\n",
    "                if len(result) > 0:\n",
    "                    result.pop()\n",
    "            else:\n",
    "                result.append(c)\n",
    "        result = ''.join(result)\n",
    "        return result\n",
    "    \n",
    "    return backwards(s) == backwards(t)\n",
    "\n",
    "s = \"ab#c\"\n",
    "t = \"ad#c\" \n",
    "\n",
    "print(backspaceCompare(s, t))"
   ]
  },
  {
   "cell_type": "markdown",
   "id": "5ec8d737",
   "metadata": {},
   "source": [
    "💡 **Question 8**\n",
    "\n",
    "You are given an array coordinates, coordinates[i] = [x, y], where [x, y] represents the coordinate of a point. Check if these \n",
    "points make a straight line in the XY plane.\n",
    "\n",
    "**Example 1:**\n",
    "\n",
    "**Input:** coordinates = [[1,2],[2,3],[3,4],[4,5],[5,6],[6,7]]\n",
    "\n",
    "**Output:** true"
   ]
  },
  {
   "cell_type": "code",
   "execution_count": 12,
   "id": "ee72f6f6",
   "metadata": {},
   "outputs": [
    {
     "name": "stdout",
     "output_type": "stream",
     "text": [
      "True\n"
     ]
    }
   ],
   "source": [
    "def checkStraightLine(coordinates):\n",
    "    x0, y0 = coordinates[0]\n",
    "    x1, y1 = coordinates[1]\n",
    "\n",
    "    # Use the slope formula to calculate the slope\n",
    "    m = (y1-y0)/(x1-x0)\n",
    "\n",
    "    # Loop through the coordinates\n",
    "    for i in range(1, len(coordinates)-1):\n",
    "        x, y = coordinates[i]\n",
    "        x1, y1 = coordinates[i+1]\n",
    "\n",
    "        # Calculate the slope and compare it to the first one.\n",
    "        m1 = (y1-y)/(x1-x)\n",
    "        if m != m1:\n",
    "            return False\n",
    "\n",
    "    return True\n",
    "\n",
    "coordinates = [[1,2],[2,3],[3,4],[4,5],[5,6],[6,7]]\n",
    "print(checkStraightLine(coordinates))"
   ]
  },
  {
   "cell_type": "code",
   "execution_count": null,
   "id": "31913250",
   "metadata": {},
   "outputs": [],
   "source": []
  }
 ],
 "metadata": {
  "kernelspec": {
   "display_name": "Python 3 (ipykernel)",
   "language": "python",
   "name": "python3"
  },
  "language_info": {
   "codemirror_mode": {
    "name": "ipython",
    "version": 3
   },
   "file_extension": ".py",
   "mimetype": "text/x-python",
   "name": "python",
   "nbconvert_exporter": "python",
   "pygments_lexer": "ipython3",
   "version": "3.9.12"
  }
 },
 "nbformat": 4,
 "nbformat_minor": 5
}

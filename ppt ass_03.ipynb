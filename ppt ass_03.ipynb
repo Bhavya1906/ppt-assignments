{
 "cells": [
  {
   "cell_type": "markdown",
   "id": "2970bc7b",
   "metadata": {},
   "source": [
    "Question 1\n",
    "\n",
    "Given an integer array nums of length n and an integer target, find three integers\n",
    "in nums such that the sum is closest to the target.\n",
    "Return the sum of the three integers.\n",
    "You may assume that each input would have exactly one solution.\n",
    "Example 1:\n",
    "Input: nums = [-1,2,1,-4], target = 1\n",
    "Output: 2\n",
    "Explanation: The sum that is closest to the target is 2. (-1 + 2 + 1 = 2)."
   ]
  },
  {
   "cell_type": "code",
   "execution_count": 2,
   "id": "a17b2497",
   "metadata": {},
   "outputs": [
    {
     "name": "stdout",
     "output_type": "stream",
     "text": [
      "2\n"
     ]
    }
   ],
   "source": [
    "def threeSumClosest(nums, target):\n",
    "    nums.sort()\n",
    "    closest_sum = float('inf')\n",
    "    for i in range(len(nums)-2):\n",
    "        left = i+1\n",
    "        right = len(nums)-1\n",
    "        while(left<right):\n",
    "            sum = nums[i] + nums[left] + nums[right]\n",
    "            if abs(target - sum) < abs(target - closest_sum):\n",
    "                closest_sum = sum\n",
    "            if sum > target:\n",
    "                right -= 1\n",
    "            else:\n",
    "                left += 1 \n",
    "    return closest_sum\n",
    "\n",
    "nums = [-1,2,1,-4]\n",
    "target = 1\n",
    "print(threeSumClosest(nums,target))"
   ]
  },
  {
   "cell_type": "markdown",
   "id": "fd2d136e",
   "metadata": {},
   "source": [
    "Question 2\n",
    "\n",
    "Given an array nums of n integers, return an array of all the unique quadruplets\n",
    "[nums[a], nums[b], nums[c], nums[d]] such that:\n",
    "● 0 <= a, b, c, d < n\n",
    "● a, b, c, and d are distinct.\n",
    "● nums[a] + nums[b] + nums[c] + nums[d] == target\n",
    "You may return the answer in any order.\n",
    "Example 1:\n",
    "Input: nums = [1,0,-1,0,-2,2], target = 0\n",
    "Output: [[-2,-1,1,2],[-2,0,0,2],[-1,0,0,1]]"
   ]
  },
  {
   "cell_type": "code",
   "execution_count": 6,
   "id": "dd73577b",
   "metadata": {},
   "outputs": [
    {
     "name": "stdout",
     "output_type": "stream",
     "text": [
      "[[-2, -1, 1, 2], [-2, 0, 0, 2], [-1, 0, 0, 1]]\n"
     ]
    }
   ],
   "source": [
    "def quadruplets(nums, target):\n",
    "  result = []\n",
    "  nums.sort()\n",
    "  for a in range(len(nums) - 3):\n",
    "    for b in range(a + 1, len(nums) - 2):\n",
    "      c = b + 1\n",
    "      d = len(nums) - 1\n",
    "      while (c < d):\n",
    "        if (nums[a] + nums[b] + nums[c] + nums[d] == target): \n",
    "          quadset = [nums[a], nums[b], nums[c], nums[d]]\n",
    "          if quadset not in result:\n",
    "            result.append(quadset)\n",
    "          c += 1\n",
    "          d -= 1\n",
    "        elif (nums[a] + nums[b] + nums[c] + nums[d] > target): \n",
    "          d -= 1\n",
    "        else: \n",
    "          c += 1\n",
    "  return result\n",
    "\n",
    "#Test Case\n",
    "nums = [1,0,-1,0,-2,2]\n",
    "target = 0\n",
    "\n",
    "print(quadruplets(nums, target))\n"
   ]
  },
  {
   "cell_type": "markdown",
   "id": "a757ea7d",
   "metadata": {},
   "source": [
    "Question 3\n",
    "\n",
    "A permutation of an array of integers is an arrangement of its members into a\n",
    "sequence or linear order.\n",
    "● For example, for arr = [1,2,3], the following are all the permutations of arr:\n",
    "[1,2,3], [1,3,2], [2, 1, 3], [2, 3, 1], [3,1,2], [3,2,1].\n",
    "The next permutation of an array of integers is the next lexicographically greater\n",
    "permutation of its integer. More formally, if all the permutations of the array are\n",
    "sorted in one container according to their lexicographical order, then the next\n",
    "permutation of that array is the permutation that follows it in the sorted container.\n",
    "\n",
    "If such an arrangement is not possible, the array must be rearranged as the\n",
    "lowest possible order (i.e., sorted in ascending order).\n",
    "● For example, the next permutation of arr = [1,2,3] is [1,3,2].\n",
    "● Similarly, the next permutation of arr = [2,3,1] is [3,1,2].\n",
    "● While the next permutation of arr = [3,2,1] is [1,2,3] because [3,2,1] does not\n",
    "have a lexicographical larger rearrangement.\n",
    "Given an array of integers nums, find the next permutation of nums.\n",
    "The replacement must be in place and use only constant extra memory.\n",
    "Example 1:\n",
    "Input: nums = [1,2,3]\n",
    "Output: [1,3,2]"
   ]
  },
  {
   "cell_type": "code",
   "execution_count": 7,
   "id": "a3eed259",
   "metadata": {},
   "outputs": [
    {
     "name": "stdout",
     "output_type": "stream",
     "text": [
      "[1, 3, 2]\n"
     ]
    }
   ],
   "source": [
    "\n",
    "def nextPermutation(nums): \n",
    "    n = len(nums) \n",
    "    i = n - 2\n",
    "  \n",
    "    while(i >= 0 and nums[i + 1] <= nums[i]): \n",
    "        i -= 1\n",
    "  \n",
    "    if i >= 0: \n",
    "        j = n - 1\n",
    "        while(j>=0 and nums[j] <= nums[i]): \n",
    "            j -= 1\n",
    "        nums[i], nums[j] = nums[j], nums[i] \n",
    "  \n",
    "    nums[i + 1:] = reversed(nums[i + 1:]) \n",
    "  \n",
    "    return nums \n",
    "  \n",
    "# Driver Code \n",
    "nums = [1,2,3] \n",
    "print(nextPermutation(nums)) "
   ]
  },
  {
   "cell_type": "markdown",
   "id": "058863a7",
   "metadata": {},
   "source": [
    "Question 4\n",
    "\n",
    "Given a sorted array of distinct integers and a target value, return the index if the\n",
    "target is found. If not, return the index where it would be if it were inserted in\n",
    "order.\n",
    "You must write an algorithm with O(log n) runtime complexity.\n",
    "Example 1:\n",
    "Input: nums = [1,3,5,6], target = 5\n",
    "Output: 2"
   ]
  },
  {
   "cell_type": "code",
   "execution_count": 8,
   "id": "02fd91ae",
   "metadata": {},
   "outputs": [
    {
     "name": "stdout",
     "output_type": "stream",
     "text": [
      "2\n"
     ]
    }
   ],
   "source": [
    "def search_insert(nums, target): \n",
    "    left, right = 0, len(nums) - 1\n",
    "    while left <= right: \n",
    "        mid = (left + right)//2\n",
    "        if nums[mid] == target: \n",
    "            return mid \n",
    "        if nums[mid] > target: \n",
    "            right = mid - 1\n",
    "        else: \n",
    "            left = mid + 1\n",
    "    return left \n",
    "\n",
    "nums1 = [1,3,5,6]\n",
    "target1 = 5\n",
    "\n",
    "nums2 = [1,3,5,6]\n",
    "target2 = 2\n",
    "\n",
    "print(search_insert(nums1, target1))"
   ]
  },
  {
   "cell_type": "markdown",
   "id": "6c9d6f09",
   "metadata": {},
   "source": [
    "Question 5\n",
    "\n",
    "You are given a large integer represented as an integer array digits, where each\n",
    "digits[i] is the ith digit of the integer. The digits are ordered from most significant\n",
    "to least significant in left-to-right order. The large integer does not contain any\n",
    "leading 0's.\n",
    "Increment the large integer by one and return the resulting array of digits.\n",
    "Example 1:\n",
    "Input: digits = [1,2,3]\n",
    "Output: [1,2,4]\n",
    "\n",
    "Explanation: The array represents the integer 123.\n",
    "Incrementing by one gives 123 + 1 = 124.\n",
    "Thus, the result should be [1,2,4]."
   ]
  },
  {
   "cell_type": "code",
   "execution_count": 9,
   "id": "c9698203",
   "metadata": {},
   "outputs": [
    {
     "name": "stdout",
     "output_type": "stream",
     "text": [
      "[1, 2, 4]\n"
     ]
    }
   ],
   "source": [
    "def increment(digits):\n",
    "    num = int(''.join(map(str, digits))) + 1 \n",
    "    list_of_nums = [int(digit) for digit in str(num)] \n",
    "    return list_of_nums \n",
    "\n",
    "print(increment([1,2,3]))"
   ]
  },
  {
   "cell_type": "markdown",
   "id": "302b3645",
   "metadata": {},
   "source": [
    "Question 6\n",
    "\n",
    "Given a non-empty array of integers nums, every element appears twice except\n",
    "for one. Find that single one.\n",
    "You must implement a solution with a linear runtime complexity and use only\n",
    "constant extra space.\n",
    "Example 1:\n",
    "Input: nums = [2,2,1]\n",
    "Output: 1"
   ]
  },
  {
   "cell_type": "code",
   "execution_count": 11,
   "id": "f8323d6b",
   "metadata": {},
   "outputs": [
    {
     "name": "stdout",
     "output_type": "stream",
     "text": [
      "1\n"
     ]
    }
   ],
   "source": [
    "def singleNumber(nums): \n",
    "    no_duplicate_list = [] \n",
    "    for i in nums: \n",
    "        if i not in no_duplicate_list: \n",
    "            no_duplicate_list.append(i) \n",
    "        else: \n",
    "            no_duplicate_list.remove(i) \n",
    "    return no_duplicate_list[0] \n",
    "  \n",
    "# Testing\n",
    "nums = [2,2,1]\n",
    "result = singleNumber(nums)\n",
    "print(result)\n"
   ]
  },
  {
   "cell_type": "markdown",
   "id": "2918bf30",
   "metadata": {},
   "source": [
    "Question 7\n",
    "\n",
    "You are given an inclusive range [lower, upper] and a sorted unique integer array\n",
    "nums, where all elements are within the inclusive range.\n",
    "A number x is considered missing if x is in the range [lower, upper] and x is not in\n",
    "nums.\n",
    "Return the shortest sorted list of ranges that exactly covers all the missing\n",
    "numbers. That is, no element of nums is included in any of the ranges, and each\n",
    "missing number is covered by one of the ranges.\n",
    "Example 1:\n",
    "Input: nums = [0,1,3,50,75], lower = 0, upper = 99\n",
    "Output: [[2,2],[4,49],[51,74],[76,99]]\n",
    "Explanation: The ranges are:\n",
    "[2,2]\n",
    "[4,49]\n",
    "[51,74]\n",
    "[76,99]"
   ]
  },
  {
   "cell_type": "code",
   "execution_count": 15,
   "id": "1c26ad7d",
   "metadata": {},
   "outputs": [
    {
     "name": "stdout",
     "output_type": "stream",
     "text": [
      "[[2, 2], [4, 49], [51, 74], [76, 99]]\n"
     ]
    }
   ],
   "source": [
    "def findMissingRanges(nums, lower, upper): \n",
    "    ans = [] \n",
    "    prev = lower - 1 \n",
    "  \n",
    "    for i in range(len(nums) + 1): \n",
    "        if i == len(nums): \n",
    "            curr = upper + 1\n",
    "        else: \n",
    "            curr = nums[i] \n",
    "      \n",
    "        if (curr - prev >= 2): \n",
    "            ans.append([prev + 1, curr - 1]) \n",
    "        prev = curr \n",
    "    return ans \n",
    "  \n",
    "nums = [0, 1, 3, 50, 75] \n",
    "lower = 0\n",
    "upper = 99\n",
    "print(findMissingRanges(nums, lower, upper)) \n"
   ]
  },
  {
   "cell_type": "markdown",
   "id": "77601753",
   "metadata": {},
   "source": [
    "Question 8\n",
    "\n",
    "Given an array of meeting time intervals where intervals[i] = [starti, endi],\n",
    "determine if a person could attend all meetings.\n",
    "Example 1:\n",
    "Input: intervals = [[0,30],[5,10],[15,20]]\n",
    "Output: false"
   ]
  },
  {
   "cell_type": "code",
   "execution_count": 17,
   "id": "dcb66cf4",
   "metadata": {},
   "outputs": [
    {
     "name": "stdout",
     "output_type": "stream",
     "text": [
      "False\n"
     ]
    }
   ],
   "source": [
    "def meetingSchedule(intervals):\n",
    "  for i in range(len(intervals)-1):\n",
    "    if intervals[i][1] > intervals[i+1][0]:\n",
    "      return False\n",
    "  return True\n",
    "  \n",
    "  \n",
    "#Test case\n",
    "intervals = [[0,30],[5,10],[15,20]]\n",
    "result = meetingSchedule(intervals)\n",
    "print(result) "
   ]
  },
  {
   "cell_type": "code",
   "execution_count": null,
   "id": "b8f77fe5",
   "metadata": {},
   "outputs": [],
   "source": []
  }
 ],
 "metadata": {
  "kernelspec": {
   "display_name": "Python 3 (ipykernel)",
   "language": "python",
   "name": "python3"
  },
  "language_info": {
   "codemirror_mode": {
    "name": "ipython",
    "version": 3
   },
   "file_extension": ".py",
   "mimetype": "text/x-python",
   "name": "python",
   "nbconvert_exporter": "python",
   "pygments_lexer": "ipython3",
   "version": "3.9.12"
  }
 },
 "nbformat": 4,
 "nbformat_minor": 5
}

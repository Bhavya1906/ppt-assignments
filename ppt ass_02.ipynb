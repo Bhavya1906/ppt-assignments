{
 "cells": [
  {
   "cell_type": "markdown",
   "id": "84b73007",
   "metadata": {},
   "source": [
    "<aside>\n",
    "💡 **Question 1**\n",
    "Given an integer array nums of 2n integers, group these integers into n pairs (a1, b1), (a2, b2),..., (an, bn) such that the sum of min(ai, bi) for all i is maximized. Return the maximized sum.\n",
    "\n",
    "**Example 1:**\n",
    "Input: nums = [1,4,3,2]\n",
    "Output: 4\n",
    "\n",
    "**Explanation:** All possible pairings (ignoring the ordering of elements) are:\n",
    "\n",
    "1. (1, 4), (2, 3) -> min(1, 4) + min(2, 3) = 1 + 2 = 3\n",
    "2. (1, 3), (2, 4) -> min(1, 3) + min(2, 4) = 1 + 2 = 3\n",
    "3. (1, 2), (3, 4) -> min(1, 2) + min(3, 4) = 1 + 3 = 4\n",
    "So the maximum possible sum is 4\n",
    "</aside>"
   ]
  },
  {
   "cell_type": "code",
   "execution_count": 1,
   "id": "d14ada10",
   "metadata": {},
   "outputs": [
    {
     "name": "stdout",
     "output_type": "stream",
     "text": [
      "4\n"
     ]
    }
   ],
   "source": [
    "def maxSumPairs(nums): \n",
    "    # sort the array \n",
    "    nums.sort() \n",
    "  \n",
    "    # initialize sum to 0 \n",
    "    sum = 0\n",
    "  \n",
    "    # traverse from 0 to n-1 \n",
    "    for i in range(0, int(len(nums) / 2)): \n",
    "        # add the pair sums \n",
    "        sum += min(nums[2 * i], nums[2 * i + 1]) \n",
    "  \n",
    "    return sum \n",
    "  \n",
    "# Driver code \n",
    "nums = [1,4,3,2] \n",
    "print(maxSumPairs(nums)) "
   ]
  },
  {
   "cell_type": "markdown",
   "id": "3838f248",
   "metadata": {},
   "source": [
    "Question 2\n",
    "\n",
    "Alice has n candies, where the ith candy is of type candyType[i]. Alice noticed that she started to gain weight, so she visited a doctor. \n",
    "\n",
    "The doctor advised Alice to only eat n / 2 of the candies she has (n is always even). Alice likes her candies very much, and she wants to eat the maximum number of different types of candies while still following the doctor's advice. \n",
    "\n",
    "Given the integer array candyType of length n, return the maximum number of different types of candies she can eat if she only eats n / 2 of them.\n",
    "\n",
    "Example 1:\n",
    "Input: candyType = [1,1,2,2,3,3]\n",
    "Output: 3\n",
    "\n",
    "Explanation: Alice can only eat 6 / 2 = 3 candies. Since there are only 3 types, she can eat one of each type."
   ]
  },
  {
   "cell_type": "code",
   "execution_count": 17,
   "id": "4155791b",
   "metadata": {},
   "outputs": [
    {
     "name": "stdout",
     "output_type": "stream",
     "text": [
      "3\n"
     ]
    }
   ],
   "source": [
    "def maxTypes(candyType):\n",
    "  s = set()\n",
    "  for i in candyType:\n",
    "    s.add(i)\n",
    "  return min(len(s), int(len(candyType)/2))\n",
    "\n",
    "candyType = [1,1,2,2,3,3]\n",
    "print(maxTypes(candyType))"
   ]
  },
  {
   "cell_type": "markdown",
   "id": "1490ccd5",
   "metadata": {},
   "source": [
    "Question 3\n",
    "\n",
    "We define a harmonious array as an array where the difference between its maximum value\n",
    "and its minimum value is exactly 1.\n",
    "\n",
    "Given an integer array nums, return the length of its longest harmonious subsequence\n",
    "among all its possible subsequences.\n",
    "\n",
    "A subsequence of an array is a sequence that can be derived from the array by deleting some or no elements without changing the order of the remaining elements.\n",
    "\n",
    "Example 1:\n",
    "Input: nums = [1,3,2,2,5,2,3,7]\n",
    "Output: 5\n",
    "\n",
    "Explanation: The longest harmonious subsequence is [3,2,2,2,3]."
   ]
  },
  {
   "cell_type": "code",
   "execution_count": 18,
   "id": "545b5df2",
   "metadata": {},
   "outputs": [
    {
     "name": "stdout",
     "output_type": "stream",
     "text": [
      "5\n"
     ]
    }
   ],
   "source": [
    "def findLHS(nums):\n",
    "    nums_dict = {}\n",
    "    for n in nums:\n",
    "        if n not in nums_dict:\n",
    "            nums_dict[n] = 1\n",
    "        else:\n",
    "            nums_dict[n] += 1\n",
    "    max_len = 0\n",
    "    for k,v in nums_dict.items():\n",
    "        if k+1 in nums_dict:\n",
    "            max_len = max(max_len,v+nums_dict[k+1])\n",
    "    return max_len\n",
    "\n",
    "nums = [1,3,2,2,5,2,3,7]\n",
    "print(findLHS(nums))"
   ]
  },
  {
   "cell_type": "markdown",
   "id": "71fc83b3",
   "metadata": {},
   "source": [
    "Question 4\n",
    "\n",
    "You have a long flowerbed in which some of the plots are planted, and some are not.\n",
    "However, flowers cannot be planted in adjacent plots.\n",
    "Given an integer array flowerbed containing 0's and 1's, where 0 means empty and 1 means not empty, and an integer n, return true if n new flowers can be planted in the flowerbed without violating the no-adjacent-flowers rule and false otherwise.\n",
    "\n",
    "Example 1:\n",
    "Input: flowerbed = [1,0,0,0,1], n = 1\n",
    "Output: true"
   ]
  },
  {
   "cell_type": "code",
   "execution_count": 6,
   "id": "fa40e1f0",
   "metadata": {},
   "outputs": [
    {
     "name": "stdout",
     "output_type": "stream",
     "text": [
      "True\n",
      "False\n"
     ]
    }
   ],
   "source": [
    "\n",
    "def can_plant_garden(flowerbed, n):\n",
    "    count = 0\n",
    "    for i in range(len(flowerbed)):\n",
    "        if flowerbed[i] == 0 and (i == 0 or flowerbed[i-1] == 0) and (i == len(flowerbed)-1 or flowerbed[i+1] == 0):\n",
    "            flowerbed[i] = 1\n",
    "            count += 1\n",
    "    return count >= n\n",
    " \n",
    " \n",
    "# test 1\n",
    "flowerbed1 = [1, 0, 0, 0, 1]\n",
    "n1 = 1\n",
    "print(can_plant_garden(flowerbed1, n1)) \n",
    "\n",
    "\n",
    "\n",
    "# test 2\n",
    "flowerbed2 = [1, 0, 0, 0, 0, 1]\n",
    "n2 = 2\n",
    "print(can_plant_garden(flowerbed2, n2)) \n"
   ]
  },
  {
   "cell_type": "markdown",
   "id": "de6ba204",
   "metadata": {},
   "source": [
    "Question 5\n",
    "\n",
    "Given an integer array nums, find three numbers whose product is maximum and return the maximum product.\n",
    "\n",
    "Example 1:\n",
    "Input: nums = [1,2,3]\n",
    "Output: 6"
   ]
  },
  {
   "cell_type": "code",
   "execution_count": 22,
   "id": "9209ea2a",
   "metadata": {},
   "outputs": [
    {
     "name": "stdout",
     "output_type": "stream",
     "text": [
      "6\n"
     ]
    }
   ],
   "source": [
    "def max_product(nums):\n",
    "    nums.sort() \n",
    "    return max(nums[-1] * nums[-2] * nums[-3], nums[0] * nums[1] * nums[-1])\n",
    "\n",
    "print(max_product([1,2,3]))"
   ]
  },
  {
   "cell_type": "markdown",
   "id": "437295f2",
   "metadata": {},
   "source": [
    "Question 6\n",
    "\n",
    "Given an array of integers nums which is sorted in ascending order, and an integer target,\n",
    "write a function to search target in nums. If target exists, then return its index. Otherwise,\n",
    "return -1.\n",
    "\n",
    "You must write an algorithm with O(log n) runtime complexity.\n",
    "\n",
    "Input: nums = [-1,0,3,5,9,12], target = 9\n",
    "Output: 4\n",
    "\n",
    "Explanation: 9 exists in nums and its index is 4"
   ]
  },
  {
   "cell_type": "code",
   "execution_count": 10,
   "id": "565d04e1",
   "metadata": {},
   "outputs": [
    {
     "name": "stdout",
     "output_type": "stream",
     "text": [
      "4\n"
     ]
    }
   ],
   "source": [
    "def binary_search(nums, target): \n",
    "  low = 0\n",
    "  high = len(nums) - 1\n",
    "\n",
    "  while low <= high:\n",
    "    mid = (low + high)//2\n",
    "\n",
    "    if nums[mid] == target:\n",
    "      return mid\n",
    "    elif nums[mid] < target:\n",
    "      low = mid + 1\n",
    "    else:\n",
    "      high = mid - 1\n",
    "  \n",
    "  return -1\n",
    "  \n",
    "# Test\n",
    "nums = [-1,0,3,5,9,12]\n",
    "target = 9\n",
    "print(binary_search(nums, target))"
   ]
  },
  {
   "cell_type": "markdown",
   "id": "804a5ac8",
   "metadata": {},
   "source": [
    "Question 7\n",
    "\n",
    "An array is monotonic if it is either monotone increasing or monotone decreasing.\n",
    "\n",
    "An array nums is monotone increasing if for all i <= j, nums[i] <= nums[j]. An array nums is\n",
    "monotone decreasing if for all i <= j, nums[i] >= nums[j].\n",
    "\n",
    "Given an integer array nums, return true if the given array is monotonic, or false otherwise.\n",
    "\n",
    "Example 1:\n",
    "Input: nums = [1,2,2,3]\n",
    "Output: true"
   ]
  },
  {
   "cell_type": "code",
   "execution_count": 11,
   "id": "d81b6daa",
   "metadata": {},
   "outputs": [
    {
     "name": "stdout",
     "output_type": "stream",
     "text": [
      "True\n"
     ]
    }
   ],
   "source": [
    "\n",
    "def isMonotonic(nums): \n",
    "    return (all(nums[i] <= nums[i + 1] for i in range(len(nums) - 1)) or\n",
    "            all(nums[i] >= nums[i + 1] for i in range(len(nums) - 1))) \n",
    "  \n",
    "nums = [1,2,2,3] \n",
    "print(isMonotonic(nums))"
   ]
  },
  {
   "cell_type": "markdown",
   "id": "03b4383e",
   "metadata": {},
   "source": [
    "Question 8\n",
    "\n",
    "You are given an integer array nums and an integer k.\n",
    "\n",
    "In one operation, you can choose any index i where 0 <= i < nums.length and change nums[i] to nums[i] + x where x is an integer\n",
    "from the range [-k, k]. You can apply this operation at most once for each index i.\n",
    "\n",
    "The score of nums is the difference between the maximum and minimum elements in nums.\n",
    "\n",
    "Return the minimum score of nums after applying the mentioned operation at most once for each index in it.\n",
    "\n",
    "Example 1:\n",
    "Input: nums = [1], k = 0\n",
    "Output: 0\n",
    "\n",
    "Explanation: The score is max(nums) - min(nums) = 1 - 1 = 0."
   ]
  },
  {
   "cell_type": "code",
   "execution_count": 23,
   "id": "527606fc",
   "metadata": {},
   "outputs": [
    {
     "name": "stdout",
     "output_type": "stream",
     "text": [
      "0\n"
     ]
    }
   ],
   "source": [
    "\n",
    "def min_score_after_operation(nums, k): \n",
    "  cur_min, cur_max = min(nums), max(nums)\n",
    "  \n",
    "  for i in range(len(nums)): \n",
    "    cur_min = min(cur_min, nums[i] - k)\n",
    "    cur_max = max(cur_max, nums[i] + k)\n",
    "   \n",
    "  return cur_max - cur_min\n",
    "\n",
    "nums = [1] \n",
    "k = 0\n",
    "print(min_score_after_operation(nums, k)) "
   ]
  },
  {
   "cell_type": "code",
   "execution_count": null,
   "id": "8aea1469",
   "metadata": {},
   "outputs": [],
   "source": []
  }
 ],
 "metadata": {
  "kernelspec": {
   "display_name": "Python 3 (ipykernel)",
   "language": "python",
   "name": "python3"
  },
  "language_info": {
   "codemirror_mode": {
    "name": "ipython",
    "version": 3
   },
   "file_extension": ".py",
   "mimetype": "text/x-python",
   "name": "python",
   "nbconvert_exporter": "python",
   "pygments_lexer": "ipython3",
   "version": "3.9.12"
  }
 },
 "nbformat": 4,
 "nbformat_minor": 5
}

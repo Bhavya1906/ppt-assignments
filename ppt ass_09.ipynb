{
 "cells": [
  {
   "cell_type": "markdown",
   "id": "f1d4074f",
   "metadata": {},
   "source": [
    "💡 **Question 1**\n",
    "\n",
    "Given an integer `n`, return *`true` if it is a power of two. Otherwise, return `false`*.\n",
    "\n",
    "An integer `n` is a power of two, if there exists an integer `x` such that `n == 2x`.\n",
    "\n",
    "**Example 1:**\n",
    "Input: n = 1 \n",
    "\n",
    "Output: true\n",
    "\n",
    "**Example 2:**\n",
    "Input: n = 16 \n",
    "\n",
    "Output: true\n",
    "\n",
    "**Example 3:**\n",
    "Input: n = 3 \n",
    "\n",
    "Output: false\n",
    "\n",
    "</aside>"
   ]
  },
  {
   "cell_type": "code",
   "execution_count": 1,
   "id": "229e259c",
   "metadata": {},
   "outputs": [
    {
     "name": "stdout",
     "output_type": "stream",
     "text": [
      "True\n"
     ]
    }
   ],
   "source": [
    "def isPowerOfTwo(n):\n",
    "  if n==0:\n",
    "    return False\n",
    "  while(n!=1):\n",
    "    if n%2!=0:\n",
    "      return False\n",
    "    n=n//2\n",
    "  return True\n",
    "  \n",
    "#Test Cases\n",
    "print (isPowerOfTwo(1))"
   ]
  },
  {
   "cell_type": "markdown",
   "id": "5f032a3e",
   "metadata": {},
   "source": [
    "💡 **Question 2**\n",
    "\n",
    "Given a number n, find the sum of the first natural numbers.\n",
    "\n",
    "**Example 1:**\n",
    "\n",
    "Input: n = 3 \n",
    "\n",
    "Output: 6\n",
    "\n",
    "**Example 2:**\n",
    "\n",
    "Input  : 5 \n",
    "\n",
    "Output : 15\n",
    "\n",
    "</aside>"
   ]
  },
  {
   "cell_type": "code",
   "execution_count": 3,
   "id": "d8a482e6",
   "metadata": {},
   "outputs": [
    {
     "name": "stdout",
     "output_type": "stream",
     "text": [
      "6\n"
     ]
    }
   ],
   "source": [
    "def sumfirstn(n): \n",
    "  sum = 0\n",
    "  for i in range(0, n+1): \n",
    "    sum += i   \n",
    "  return sum\n",
    "  \n",
    "# Test case 1\n",
    "n = 3 \n",
    "print(sumfirstn(n))"
   ]
  },
  {
   "cell_type": "markdown",
   "id": "4c246d03",
   "metadata": {},
   "source": [
    "💡 **Question 3**\n",
    "\n",
    "****Given a positive integer, N. Find the factorial of N. \n",
    "\n",
    "**Example 1:**\n",
    "\n",
    "Input: N = 5 \n",
    "\n",
    "Output: 120\n",
    "\n",
    "**Example 2:**\n",
    "\n",
    "Input: N = 4\n",
    "\n",
    "Output: 24\n",
    "\n",
    "</aside>"
   ]
  },
  {
   "cell_type": "code",
   "execution_count": 6,
   "id": "aad72db2",
   "metadata": {},
   "outputs": [
    {
     "name": "stdout",
     "output_type": "stream",
     "text": [
      "120\n"
     ]
    }
   ],
   "source": [
    "def factorial(n): \n",
    "    fact = 1\n",
    "    for i in range(1, n + 1): \n",
    "        fact = fact * i \n",
    "    return fact \n",
    "  \n",
    "# Driver code \n",
    "num = 5\n",
    "print(factorial(num)) "
   ]
  },
  {
   "cell_type": "markdown",
   "id": "2301ec19",
   "metadata": {},
   "source": [
    "💡 **Question 4**\n",
    "\n",
    "Given a number N and a power P, the task is to find the exponent of this number raised to the given power, i.e. N^P.\n",
    "\n",
    "**Example 1 :** \n",
    "\n",
    "Input: N = 5, P = 2\n",
    "\n",
    "Output: 25\n",
    "\n",
    "**Example 2 :**\n",
    "Input: N = 2, P = 5\n",
    "\n",
    "Output: 32\n",
    "\n",
    "</aside>"
   ]
  },
  {
   "cell_type": "code",
   "execution_count": 7,
   "id": "4070c2c8",
   "metadata": {},
   "outputs": [
    {
     "name": "stdout",
     "output_type": "stream",
     "text": [
      "25\n",
      "32\n"
     ]
    }
   ],
   "source": [
    "def exponentPower(N, P): \n",
    "    return N ** P \n",
    "N = 5; P = 2\n",
    "print(exponentPower(N, P))\n",
    "N = 2; P = 5\n",
    "print(exponentPower(N, P))"
   ]
  },
  {
   "cell_type": "markdown",
   "id": "12f04286",
   "metadata": {},
   "source": [
    "💡 **Question 5**\n",
    "\n",
    "Given an array of integers **arr**, the task is to find maximum element of that array using recursion.\n",
    "\n",
    "**Example 1:**\n",
    "\n",
    "Input: arr = {1, 4, 3, -5, -4, 8, 6};\n",
    "Output: 8\n",
    "\n",
    "**Example 2:**\n",
    "\n",
    "Input: arr = {1, 4, 45, 6, 10, -8};\n",
    "Output: 45\n",
    "\n",
    "</aside>"
   ]
  },
  {
   "cell_type": "code",
   "execution_count": 8,
   "id": "6fc844e3",
   "metadata": {},
   "outputs": [
    {
     "name": "stdout",
     "output_type": "stream",
     "text": [
      "Maximum Element of the array is 8\n"
     ]
    }
   ],
   "source": [
    "def max_number(arr, n): \n",
    "    if n == 1 : \n",
    "        return arr[0] \n",
    "    else : \n",
    "        return max(arr[n-1], max_number(arr, n-1)) \n",
    "\n",
    "arr = [1, 4, 3, -5, -4, 8, 6] \n",
    "\n",
    "n = len(arr) \n",
    "\n",
    "max_number = max_number(arr, n) \n",
    "\n",
    "print(\"Maximum Element of the array is\", max_number) "
   ]
  },
  {
   "cell_type": "markdown",
   "id": "de6c3840",
   "metadata": {},
   "source": [
    "💡 **Question 6**\n",
    "\n",
    "Given first term (a), common difference (d) and a integer N of the Arithmetic Progression series, the task is to find Nth term\n",
    "of the series.\n",
    "\n",
    "**Example 1:**\n",
    "\n",
    "Input : a = 2 d = 1 N = 5\n",
    "Output : 6\n",
    "The 5th term of the series is : 6\n",
    "\n",
    "**Example 2:**\n",
    "\n",
    "Input : a = 5 d = 2 N = 10\n",
    "Output : 23\n",
    "The 10th term of the series is : 23\n",
    "\n",
    "</aside>"
   ]
  },
  {
   "cell_type": "code",
   "execution_count": 10,
   "id": "3d68276b",
   "metadata": {},
   "outputs": [
    {
     "name": "stdout",
     "output_type": "stream",
     "text": [
      "The 5th term of the series is : 6\n"
     ]
    }
   ],
   "source": [
    "def Arithmetic_Progression(a,d,N):\n",
    "  return (a + (N-1)*d)\n",
    "\n",
    "#test case 1\n",
    "print(\"The 5th term of the series is :\", Arithmetic_Progression(2,1,5)) "
   ]
  },
  {
   "cell_type": "markdown",
   "id": "83c979f1",
   "metadata": {},
   "source": [
    "💡 **Question 7**\n",
    "\n",
    "Given a string S, the task is to write a program to print all permutations of a given string.\n",
    "\n",
    "**Example 1:**\n",
    "\n",
    "***Input:***\n",
    "\n",
    "*S = “ABC”*\n",
    "\n",
    "***Output:***\n",
    "\n",
    "*“ABC”, “ACB”, “BAC”, “BCA”, “CBA”, “CAB”*\n",
    "\n",
    "**Example 2:**\n",
    "\n",
    "***Input:***\n",
    "\n",
    "*S = “XY”*\n",
    "\n",
    "***Output:***\n",
    "\n",
    "*“XY”, “YX”*\n",
    "\n",
    "</aside>"
   ]
  },
  {
   "cell_type": "code",
   "execution_count": 11,
   "id": "70659b03",
   "metadata": {},
   "outputs": [
    {
     "name": "stdout",
     "output_type": "stream",
     "text": [
      "['ABC', 'ACB', 'BAC', 'BCA', 'CAB', 'CBA']\n"
     ]
    }
   ],
   "source": [
    "def permute(s):\n",
    "  out = []\n",
    "  if len(s) == 1:\n",
    "    out = [s] \n",
    "  else:\n",
    "    for i, letter in enumerate(s):\n",
    "      for perm in permute(s[:i] + s[i+1:]):\n",
    "        out += [letter + perm]\n",
    "\n",
    "  return out\n",
    "\n",
    "# Test Case\n",
    "S1 = \"ABC\"\n",
    "print(permute(S1))"
   ]
  },
  {
   "cell_type": "markdown",
   "id": "e78652b3",
   "metadata": {},
   "source": [
    "💡 **Question 8**\n",
    "\n",
    "Given an array, find a product of all array elements.\n",
    "\n",
    "**Example 1:**\n",
    "\n",
    "Input  : arr[] = {1, 2, 3, 4, 5}\n",
    "Output : 120\n",
    "**Example 2:**\n",
    "\n",
    "Input  : arr[] = {1, 6, 3}\n",
    "Output : 18\n",
    "\n",
    "</aside>"
   ]
  },
  {
   "cell_type": "code",
   "execution_count": 12,
   "id": "b392dc0b",
   "metadata": {},
   "outputs": [
    {
     "name": "stdout",
     "output_type": "stream",
     "text": [
      "120\n"
     ]
    }
   ],
   "source": [
    "def productofElementsArray(arr): \n",
    "    product = 1\n",
    "    for i in arr: \n",
    "        product *= i\n",
    "    return product\n",
    "  \n",
    "# Driver Function \n",
    "arr = [1, 2, 3, 4, 5] \n",
    "print(productofElementsArray(arr)) "
   ]
  },
  {
   "cell_type": "code",
   "execution_count": null,
   "id": "67af47fb",
   "metadata": {},
   "outputs": [],
   "source": []
  }
 ],
 "metadata": {
  "kernelspec": {
   "display_name": "Python 3 (ipykernel)",
   "language": "python",
   "name": "python3"
  },
  "language_info": {
   "codemirror_mode": {
    "name": "ipython",
    "version": 3
   },
   "file_extension": ".py",
   "mimetype": "text/x-python",
   "name": "python",
   "nbconvert_exporter": "python",
   "pygments_lexer": "ipython3",
   "version": "3.9.12"
  }
 },
 "nbformat": 4,
 "nbformat_minor": 5
}

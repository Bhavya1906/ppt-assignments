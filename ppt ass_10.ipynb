{
 "cells": [
  {
   "cell_type": "markdown",
   "id": "d901dcd7",
   "metadata": {},
   "source": [
    "💡 **Question 1**\n",
    "\n",
    "Given an integer `n`, return *`true` if it is a power of three. Otherwise, return `false`*.\n",
    "\n",
    "An integer `n` is a power of three, if there exists an integer `x` such that `n == 3x`.\n",
    "\n",
    "**Example 1:**\n",
    "\n",
    "```\n",
    "Input: n = 27\n",
    "Output: true\n",
    "Explanation: 27 = 33\n",
    "```\n",
    "\n",
    "**Example 2:**\n",
    "\n",
    "```\n",
    "Input: n = 0\n",
    "Output: false\n",
    "Explanation: There is no x where 3x = 0.\n",
    "\n",
    "```\n",
    "\n",
    "**Example 3:**\n",
    "\n",
    "```\n",
    "Input: n = -1\n",
    "Output: false\n",
    "Explanation: There is no x where 3x = (-1).\n",
    "\n",
    "```\n",
    "</aside>"
   ]
  },
  {
   "cell_type": "code",
   "execution_count": 3,
   "id": "aa052a41",
   "metadata": {},
   "outputs": [
    {
     "name": "stdout",
     "output_type": "stream",
     "text": [
      "False\n"
     ]
    }
   ],
   "source": [
    "def isPowerOfThree(n):\n",
    "  if n == 0: return False\n",
    "  while n % 3 == 0:\n",
    "    n = n // 3\n",
    "  return n == 1\n",
    "\n",
    "n = 0\n",
    "print(isPowerOfThree(n))"
   ]
  },
  {
   "cell_type": "markdown",
   "id": "6ab92d70",
   "metadata": {},
   "source": [
    "💡 **Question 2**\n",
    "\n",
    "You have a list `arr` of all integers in the range `[1, n]` sorted in a strictly increasing order. Apply the following \n",
    "algorithm on `arr`:\n",
    "\n",
    "- Starting from left to right, remove the first number and every other number afterward until you reach the end of the list.\n",
    "- Repeat the previous step again, but this time from right to left, remove the rightmost number and every other number from the\n",
    "remaining numbers.\n",
    "- Keep repeating the steps again, alternating left to right and right to left, until a single number remains.\n",
    "\n",
    "Given the integer `n`, return *the last number that remains in* `arr`.\n",
    "\n",
    "**Example 1:**\n",
    "\n",
    "```\n",
    "Input: n = 9\n",
    "Output: 6\n",
    "Explanation:\n",
    "arr = [1, 2,3, 4,5, 6,7, 8,9]\n",
    "arr = [2,4, 6,8]\n",
    "arr = [2, 6]\n",
    "arr = [6]\n",
    "\n",
    "```\n",
    "\n",
    "**Example 2:**\n",
    "\n",
    "```\n",
    "Input: n = 1\n",
    "Output: 1\n",
    "\n",
    "```"
   ]
  },
  {
   "cell_type": "code",
   "execution_count": 14,
   "id": "e2fe7420",
   "metadata": {},
   "outputs": [
    {
     "name": "stdout",
     "output_type": "stream",
     "text": [
      "4\n"
     ]
    }
   ],
   "source": [
    "def lastRemaining(n):\n",
    "        if (n==1):\n",
    "            return n\n",
    "        elif (n%2==1):\n",
    "            return 2*((n//2)-lastRemaining(n//2)+1)\n",
    "        else:\n",
    "            return 2*(n//2)+1-lastRemaining(n//2)\n",
    "\n",
    "n = 9\n",
    "print(lastRemaining(n))"
   ]
  },
  {
   "cell_type": "code",
   "execution_count": 15,
   "id": "1951f470",
   "metadata": {},
   "outputs": [
    {
     "name": "stdout",
     "output_type": "stream",
     "text": [
      "4\n"
     ]
    }
   ],
   "source": [
    "def lastRemainingNumber(n):\n",
    "    if n <= 1:\n",
    "        return n\n",
    "\n",
    "    mark = [True] * n\n",
    "    left, right, direction = 0, n - 1, True\n",
    "    step = 1\n",
    "\n",
    "    while left <= right:\n",
    "        if mark[left] == True:\n",
    "            if direction == True:\n",
    "                mark[left] = False\n",
    "            else:\n",
    "                mark[right] = False\n",
    "            if left == right:\n",
    "                return left\n",
    "        left += int(direction) * step\n",
    "        right += -1 * int(direction) * step\n",
    "        direction = not direction\n",
    "\n",
    "print(lastRemainingNumber(9))"
   ]
  },
  {
   "cell_type": "markdown",
   "id": "9449831f",
   "metadata": {},
   "source": [
    "💡 **Question 3**\n",
    "\n",
    "****Given a set represented as a string, write a recursive code to print all subsets of it. The subsets can be printed in any\n",
    "order.\n",
    "\n",
    "**Example 1:**\n",
    "\n",
    "Input :  set = “abc”\n",
    "\n",
    "Output : { “”, “a”, “b”, “c”, “ab”, “ac”, “bc”, “abc”}\n",
    "\n",
    "**Example 2:**\n",
    "\n",
    "Input : set = “abcd”\n",
    "\n",
    "Output : { “”, “a” ,”ab” ,”abc” ,”abcd”, “abd” ,”ac” ,”acd”, “ad” ,”b”, “bc” ,”bcd” ,”bd” ,”c” ,”cd” ,”d” }\n",
    "\n",
    "</aside>"
   ]
  },
  {
   "cell_type": "code",
   "execution_count": 19,
   "id": "0f38629f",
   "metadata": {},
   "outputs": [
    {
     "name": "stdout",
     "output_type": "stream",
     "text": [
      "{'', 'c', 'bcd', 'bd', 'ab', 'acd', 'abd', 'cd', 'd', 'bc', 'ac', 'abcd', 'a', 'b', 'ad', 'abc'}\n"
     ]
    }
   ],
   "source": [
    "def subsetsOfString(str):\n",
    "    if not str:\n",
    "        return set([\"\"])\n",
    "    else:\n",
    "        # take out the first char\n",
    "        first = str[0]\n",
    "        rec_subs = subsetsOfString(str[1:])\n",
    "        extra = set()\n",
    "        # loop through the existing subs and add the first char\n",
    "        for sub in rec_subs:\n",
    "            extra.add(first+sub)\n",
    "        # join the two sets\n",
    "        rec_subs = rec_subs.union(extra)\n",
    "        return rec_subs\n",
    "\n",
    "# test case 1\n",
    "str1 = \"abcd\"\n",
    "print (subsetsOfString(str1))"
   ]
  },
  {
   "cell_type": "markdown",
   "id": "34110ff5",
   "metadata": {},
   "source": [
    "💡 **Question 4**\n",
    "\n",
    "Given a string calculate length of the string using recursion.\n",
    "\n",
    "**Examples:**\n",
    "\n",
    "</aside>\n",
    "Input : str = \"abcd\"\n",
    "Output :4\n",
    "\n",
    "Input : str = \"GEEKSFORGEEKS\"\n",
    "Output :13"
   ]
  },
  {
   "cell_type": "code",
   "execution_count": 21,
   "id": "ec80b8ba",
   "metadata": {},
   "outputs": [
    {
     "name": "stdout",
     "output_type": "stream",
     "text": [
      "13\n"
     ]
    }
   ],
   "source": [
    "def length_string(str): \n",
    "    if(str == \"\"): \n",
    "        return 0\n",
    "    else: \n",
    "        return 1 + length_string(str[1:]) \n",
    "    \n",
    "str = \"GEEKSFORGEEKS\"\n",
    "print(length_string(str))"
   ]
  },
  {
   "cell_type": "markdown",
   "id": "ae23df18",
   "metadata": {},
   "source": [
    "💡 **Question 5**\n",
    "\n",
    "We are given a string S, we need to find count of all contiguous substrings starting and ending with same character.\n",
    "\n",
    "**Examples :**\n",
    "\n",
    "```\n",
    "Input  : S = \"abcab\"\n",
    "Output : 7\n",
    "There are 15 substrings of \"abcab\"\n",
    "a, ab, abc, abca, abcab, b, bc, bca\n",
    "bcab, c, ca, cab, a, ab, b\n",
    "Out of the above substrings, there\n",
    "are 7 substrings : a, abca, b, bcab,\n",
    "c, a and b.\n",
    "```\n",
    "```\n",
    "Input  : S = \"aba\"\n",
    "Output : 4\n",
    "The substrings are a, b, a and aba\n",
    "```"
   ]
  },
  {
   "cell_type": "code",
   "execution_count": 25,
   "id": "534d7554",
   "metadata": {},
   "outputs": [
    {
     "name": "stdout",
     "output_type": "stream",
     "text": [
      "7\n"
     ]
    }
   ],
   "source": [
    "def count_substrings(s):\n",
    "    count = 0 \n",
    "    \n",
    "    for i in range(len(s)):          \n",
    "        for j in range(i, len(s)):  \n",
    "            if s[i] == s[j]:         \n",
    "                count += 1              \n",
    "    return count\n",
    "\n",
    "# Test cases\n",
    "S1 = \"abcab\"\n",
    "S2 = \"aba\"\n",
    "\n",
    "print(count_substrings(S1))"
   ]
  },
  {
   "cell_type": "markdown",
   "id": "d7a5821b",
   "metadata": {},
   "source": [
    "💡 **Question 6**\n",
    "\n",
    "The [tower of Hanoi](https://en.wikipedia.org/wiki/Tower_of_Hanoi) is a famous puzzle where we have three rods and **N** disks.\n",
    "The objective of the puzzle is to move the entire stack to another rod. You are given the number of discs **N**. Initially,\n",
    "these discs are in the rod 1. You need to print all the steps of discs movement so that all the discs reach the 3rd rod. Also,\n",
    "you need to find the total moves.**Note:** The discs are arranged such that the **top disc is numbered 1** and the **bottom-most\n",
    "    disc is numbered N**. Also, all the discs have **different sizes** and a bigger disc **cannot** be put on the top of a \n",
    "    smaller disc. Refer the provided link to get a better clarity about the puzzle.\n",
    "\n",
    "**Example 1:**\n",
    "\n",
    "```\n",
    "Input:\n",
    "N = 2\n",
    "Output:\n",
    "move disk 1 from rod 1 to rod 2\n",
    "move disk 2 from rod 1 to rod 3\n",
    "move disk 1 from rod 2 to rod 3\n",
    "3\n",
    "Explanation:For N=2 , steps will be\n",
    "as follows in the example and total\n",
    "3 steps will be taken.\n",
    "```\n",
    "\n",
    "**Example 2:**\n",
    "\n",
    "```\n",
    "Input:\n",
    "N = 3\n",
    "Output:\n",
    "move disk 1 from rod 1 to rod 3\n",
    "move disk 2 from rod 1 to rod 2\n",
    "move disk 1 from rod 3 to rod 2\n",
    "move disk 3 from rod 1 to rod 3\n",
    "move disk 1 from rod 2 to rod 1\n",
    "move disk 2 from rod 2 to rod 3\n",
    "move disk 1 from rod 1 to rod 3\n",
    "7\n",
    "Explanation:For N=3 , steps will be\n",
    "as follows in the example and total\n",
    "7 steps will be taken.\n",
    "```"
   ]
  },
  {
   "cell_type": "code",
   "execution_count": 29,
   "id": "f1aa1b60",
   "metadata": {},
   "outputs": [
    {
     "name": "stdout",
     "output_type": "stream",
     "text": [
      "Enter the number of discs: 2\n",
      "Total Moves: 3\n",
      "Move disk 1 from rod 1 to rod 2\n",
      "Move disk 2 from rod 1 to rod 3\n",
      "Move disk 1 from rod 2 to rod 3\n"
     ]
    }
   ],
   "source": [
    "def tower_of_Hanoi(n, from_rod, to_rod, aux_rod):\n",
    "    if n == 1: \n",
    "        print (\"Move disk 1 from rod\",from_rod,\"to rod\",to_rod) \n",
    "        return\n",
    "    tower_of_Hanoi(n-1, from_rod, aux_rod, to_rod) \n",
    "    print(\"Move disk\",n,\"from rod\",from_rod,\"to rod\",to_rod) \n",
    "    tower_of_Hanoi(n-1, aux_rod, to_rod, from_rod) \n",
    "\n",
    "N=int(input(\"Enter the number of discs: \")) \n",
    "total_moves= 2**N - 1\n",
    "print (\"Total Moves:\",total_moves) \n",
    "tower_of_Hanoi(N, 1, 3, 2)"
   ]
  },
  {
   "cell_type": "markdown",
   "id": "8db8b64d",
   "metadata": {},
   "source": [
    "💡 **Question 7**\n",
    "\n",
    "Given a string **str**, the task is to print all the permutations of **str**. A **permutation** is an arrangement of all or part\n",
    "of a set of objects, with regard to the order of the arrangement. For instance, the words ‘bat’ and ‘tab’ represents two \n",
    "distinct permutation (or arrangements) of a similar three letter word.\n",
    "\n",
    "**Examples:**\n",
    "\n",
    "> Input: str = “cd”\n",
    "> \n",
    "> \n",
    "> **Output:** cd dc\n",
    "> \n",
    "> **Input:** str = “abb”\n",
    "> \n",
    "> **Output:** abb abb bab bba bab bba\n",
    "> \n",
    "</aside>"
   ]
  },
  {
   "cell_type": "code",
   "execution_count": 27,
   "id": "57e9c2c5",
   "metadata": {},
   "outputs": [
    {
     "name": "stdout",
     "output_type": "stream",
     "text": [
      "['abb', 'abb', 'bab', 'bba', 'bab', 'bba']\n"
     ]
    }
   ],
   "source": [
    "def permutation(string): \n",
    "    if len(string) == 0: \n",
    "        return [] \n",
    "    if len(string) == 1: \n",
    "        return [string] \n",
    "    l = []  \n",
    "    for i in range(len(string)): \n",
    "       m = string[i] \n",
    "       remain = string[:i] + string[i+1:] \n",
    "       for p in permutation(remain): \n",
    "            l.append(m + p) \n",
    "    return l \n",
    "  \n",
    "# Driver program to test \n",
    "string = \"abb\"\n",
    "print(permutation(string)) "
   ]
  },
  {
   "cell_type": "markdown",
   "id": "9e3b1100",
   "metadata": {},
   "source": [
    "💡 **Question 8**\n",
    "\n",
    "Given a string, count total number of consonants in it. A consonant is an English alphabet character that is not vowel \n",
    "(a, e, i, o and u). Examples of constants are b, c, d, f, and g.\n",
    "\n",
    "**Examples :**\n",
    "\n",
    "```\n",
    "Input : abc de\n",
    "Output : 3\n",
    "There are three consonants b, c and d.\n",
    "\n",
    "Input : geeksforgeeks portal\n",
    "Output : 12\n",
    "```"
   ]
  },
  {
   "cell_type": "code",
   "execution_count": 28,
   "id": "a6bbaba1",
   "metadata": {},
   "outputs": [
    {
     "name": "stdout",
     "output_type": "stream",
     "text": [
      "3\n",
      "12\n"
     ]
    }
   ],
   "source": [
    "VOWELS = set(\"aeiou\")\n",
    "\n",
    "def count_consonants(str):\n",
    "  str = str.replace(\" \", \"\")\n",
    "  num_consonants = 0\n",
    "  for letter in str:\n",
    "    if letter.lower() not in VOWELS:\n",
    "      num_consonants += 1\n",
    "  return num_consonants\n",
    "\n",
    "# Test code\n",
    "print(count_consonants(\"abc de\")) \n",
    "print(count_consonants(\"geeksforgeeks portal\")) "
   ]
  },
  {
   "cell_type": "code",
   "execution_count": null,
   "id": "af2331d6",
   "metadata": {},
   "outputs": [],
   "source": []
  }
 ],
 "metadata": {
  "kernelspec": {
   "display_name": "Python 3 (ipykernel)",
   "language": "python",
   "name": "python3"
  },
  "language_info": {
   "codemirror_mode": {
    "name": "ipython",
    "version": 3
   },
   "file_extension": ".py",
   "mimetype": "text/x-python",
   "name": "python",
   "nbconvert_exporter": "python",
   "pygments_lexer": "ipython3",
   "version": "3.9.12"
  }
 },
 "nbformat": 4,
 "nbformat_minor": 5
}
